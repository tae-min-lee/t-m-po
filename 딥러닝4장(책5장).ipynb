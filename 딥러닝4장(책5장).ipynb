{
 "cells": [
  {
   "cell_type": "markdown",
   "metadata": {},
   "source": [
    "# 4장 CNN(합성곱 신경망)\n",
    "\n",
    " ### activation finction\n",
    "\n",
    "**sigmoid**함수는 binary classification에 적절한 함수인데, sigmoid(시그모이드)는 일정한 값을 기준으로 0인지 1인지를 구분하므로써 분류하는 방식이다.\n",
    "**Relu**함수는 내부의 hidden layer를 활성화 시키는 함수로 사용되는데, 이 relu함수는 쉽게 말하면 0보다 작은 값이 나온 경우는 0을 반환하고, 0보다 큰 값이 나온 경우는 그 값을 그대로 반환하는 함수이다. 따라서 hidden layer에는 relu를 적용하고 마지막 output layer에만 sigmoid를 적용하면 정확도를 올리는데 유리하다.\n",
    "**Softmax**함수는 입력받은 값을 출력으로 0~1사이의 값으로 모두 정규화 하여 출력 값들의 총합은 항상 1이되는 특성을 가진 함수로 분류하고 싶은 클래스의 수 만큼 출력으로 구성한다. 가장 큰 출력 값을 부여받은 클래스가 가장 높은 확률을 가지는 것으로 판단함.\n",
    "\n",
    "### CNN(합성곱)\n",
    "\n",
    "* 완전 연결층과 합성곱의 차이점\n",
    "완전 연결층( Dens층)은 입력 특성 공간에 있는 전역 패턴을 학습하지만 합성곱은 지역 패턴을 학습한다.\n",
    "\n",
    "* 합성곱(CNN)의 특징\n",
    "1. 완전 연결 네트워크는 새로운 위치에 나타난 것은 새로운 패턴으로 학습하지만, 합성곱(CNN)은 어느 한 부분에서 패턴을 학습했다면 다른 곳에서도 이 패턴을 인식할 수 있다. 이런 성질은 이미지를 효율적으로 처리 가능하게 해 일반화 능력이 좋아진다\n",
    "2. 컨브넷은 공간적 계층구조를 학습할 수 있다. 첫번째 합성곱이 edge같은 작은 지역 패턴을 학습한다면, 두 번째 합성곱 층은 첫 번째 합성곱 층의 특성으로 구성된 더 큰 패턴을 학습하는 방식이다.\n",
    "\n",
    "* 케라스의 Conv2D\n",
    "3D 입력 특성 맵 위를 3x3이나 5x5크기의 윈도우가 슬라이딩하면서 모든 위치에서 3D특성 패치를 추출하는 방식으로 합성곱이 작동한다. (window_height,window_width,input_depth)\n",
    "보통 3x3이나 5x5를 사용하기 때문에  위아래 좌우로 1개 혹은 2개의 행과 열이 사라진다. 그래서 입력과 동일한 높이와 넓이를 가진 출력 틍성을 얻고 싶다면 **padding**을 사용하면된다. padding은 입력 특성 맵의 가장자리에 적절한 개수의 행과 열을 추가한다. 그래서 모든 입력 타일에 합성곱 윈도우의 중앙을 위치시킬 수 있다.\n",
    "**padding 매개변수= \"vaild\"는 패딩 사용x, \"same\"패딩을 사용한다\n",
    "\n",
    "* MaxPooling\n",
    "maxpooling은 특성 맵을 강제적으로 다운샘플링하는 것이다. 입력 특성 맵에서 윈도우에 맞는 패치를 추출하고 각 채널별로 최댓값을 출력한다.이러한 다운 샘플링을 하는 이유는 처리할 특성 맵의 가중치 개수를 줄이기 위해서이다."
   ]
  },
  {
   "cell_type": "code",
   "execution_count": 4,
   "metadata": {},
   "outputs": [
    {
     "name": "stdout",
     "output_type": "stream",
     "text": [
      "Model: \"sequential_2\"\n",
      "_________________________________________________________________\n",
      "Layer (type)                 Output Shape              Param #   \n",
      "=================================================================\n",
      "conv2d_4 (Conv2D)            (None, 26, 26, 32)        320       \n",
      "_________________________________________________________________\n",
      "max_pooling2d_3 (MaxPooling2 (None, 13, 13, 32)        0         \n",
      "_________________________________________________________________\n",
      "conv2d_5 (Conv2D)            (None, 11, 11, 64)        18496     \n",
      "_________________________________________________________________\n",
      "max_pooling2d_4 (MaxPooling2 (None, 5, 5, 64)          0         \n",
      "_________________________________________________________________\n",
      "conv2d_6 (Conv2D)            (None, 3, 3, 32)          18464     \n",
      "=================================================================\n",
      "Total params: 37,280\n",
      "Trainable params: 37,280\n",
      "Non-trainable params: 0\n",
      "_________________________________________________________________\n"
     ]
    }
   ],
   "source": [
    "from keras import layers\n",
    "from keras import models\n",
    "\n",
    "model=models.Sequential()\n",
    "model.add(layers.Conv2D(32,(3,3),activation='relu',input_shape=(28,28,1)))\n",
    "model.add(layers.MaxPooling2D((2,2)))\n",
    "model.add(layers.Conv2D(64,(3,3),activation='relu'))\n",
    "model.add(layers.MaxPooling2D((2,2)))\n",
    "model.add(layers.Conv2D(32,(3,3),activation='relu'))\n",
    "\n",
    "model.summary()\n"
   ]
  },
  {
   "cell_type": "code",
   "execution_count": 6,
   "metadata": {},
   "outputs": [],
   "source": [
    "import os,shutil\n",
    "\n",
    "original_dataset_dir='C:/Users/이태민/.kaggle/dogs-vs-cats/train'"
   ]
  },
  {
   "cell_type": "code",
   "execution_count": 7,
   "metadata": {},
   "outputs": [],
   "source": [
    "base_dir='C:/Users/이태민/.kaggle/dogs-vs-cats/cats_and_dogs_small'"
   ]
  },
  {
   "cell_type": "code",
   "execution_count": 8,
   "metadata": {},
   "outputs": [],
   "source": [
    "os.mkdir(base_dir)"
   ]
  },
  {
   "cell_type": "code",
   "execution_count": 10,
   "metadata": {},
   "outputs": [],
   "source": [
    "train_dir=os.path.join(base_dir,'train')\n",
    "os.mkdir(train_dir)\n",
    "validation_dir = os.path.join(base_dir,'validation')\n",
    "os.mkdir(validation_dir)\n",
    "test_dir=os.path.join(base_dir,'test')\n",
    "os.mkdir(test_dir)"
   ]
  },
  {
   "cell_type": "code",
   "execution_count": 11,
   "metadata": {},
   "outputs": [],
   "source": [
    "train_cats_dir=os.path.join(train_dir,'cats')\n",
    "os.mkdir(train_cats_dir)\n",
    "train_dogs_dir=os.path.join(train_dir,'dogs')\n",
    "os.mkdir(train_dogs_dir)"
   ]
  },
  {
   "cell_type": "code",
   "execution_count": 12,
   "metadata": {},
   "outputs": [],
   "source": [
    "validation_cats_dir=os.path.join(validation_dir,'cats')\n",
    "os.mkdir(validation_cats_dir)\n",
    "validation_dogs_dir=os.path.join(validation_dir,'dogs')\n",
    "os.mkdir(validation_dogs_dir)"
   ]
  },
  {
   "cell_type": "code",
   "execution_count": 13,
   "metadata": {},
   "outputs": [],
   "source": [
    "test_cats_dir=os.path.join(test_dir,'cats')\n",
    "os.mkdir(test_cats_dir)\n",
    "test_dogs_dir=os.path.join(test_dir,'dogs')\n",
    "os.mkdir(test_dogs_dir)"
   ]
  },
  {
   "cell_type": "code",
   "execution_count": 15,
   "metadata": {},
   "outputs": [],
   "source": [
    "fnames=['cat.{}.jpg'.format(i) for i in range(1000)]\n",
    "for fname in fnames:\n",
    "    src=os.path.join(original_dataset_dir,fname)\n",
    "    dst=os.path.join(train_cats_dir,fname)\n",
    "    shutil.copyfile(src,dst)"
   ]
  },
  {
   "cell_type": "code",
   "execution_count": 16,
   "metadata": {},
   "outputs": [],
   "source": [
    "fnames=['cat.{}.jpg'.format(i) for i in range(1000,1500)]\n",
    "for fname in fnames:\n",
    "    src=os.path.join(original_dataset_dir,fname)\n",
    "    dst=os.path.join(validation_cats_dir,fname)\n",
    "    shutil.copyfile(src,dst)"
   ]
  },
  {
   "cell_type": "code",
   "execution_count": 17,
   "metadata": {},
   "outputs": [],
   "source": [
    "fnames=['cat.{}.jpg'.format(i) for i in range(1500,2000)]\n",
    "for fname in fnames:\n",
    "    src=os.path.join(original_dataset_dir,fname)\n",
    "    dst=os.path.join(test_cats_dir,fname)\n",
    "    shutil.copyfile(src,dst)"
   ]
  },
  {
   "cell_type": "code",
   "execution_count": 19,
   "metadata": {},
   "outputs": [],
   "source": [
    "fnames=['dog.{}.jpg'.format(i) for i in range(1000)]\n",
    "for fname in fnames:\n",
    "    src=os.path.join(original_dataset_dir,fname)\n",
    "    dst=os.path.join(train_dogs_dir,fname)\n",
    "    shutil.copyfile(src,dst)"
   ]
  },
  {
   "cell_type": "code",
   "execution_count": 21,
   "metadata": {},
   "outputs": [],
   "source": [
    "fnames=['dog.{}.jpg'.format(i) for i in range(1000,1500)]\n",
    "for fname in fnames:\n",
    "    src=os.path.join(original_dataset_dir,fname)\n",
    "    dst=os.path.join(validation_dogs_dir,fname)\n",
    "    shutil.copyfile(src,dst)"
   ]
  },
  {
   "cell_type": "code",
   "execution_count": 22,
   "metadata": {},
   "outputs": [],
   "source": [
    "fnames=['dog.{}.jpg'.format(i) for i in range(1500,2000)]\n",
    "for fname in fnames:\n",
    "    src=os.path.join(original_dataset_dir,fname)\n",
    "    dst=os.path.join(test_dogs_dir,fname)\n",
    "    shutil.copyfile(src,dst)"
   ]
  },
  {
   "cell_type": "code",
   "execution_count": 24,
   "metadata": {},
   "outputs": [],
   "source": [
    "from keras import layers\n",
    "from keras import models\n",
    "\n",
    "model=models.Sequential()\n",
    "model.add(layers.Conv2D(32,(3,3),activation='relu',input_shape=(150,150,3)))\n",
    "model.add(layers.MaxPooling2D((2,2)))\n",
    "model.add(layers.Conv2D(64,(3,3),activation='relu'))\n",
    "model.add(layers.MaxPooling2D((2,2)))\n",
    "model.add(layers.Conv2D(128,(3,3),activation='relu'))\n",
    "model.add(layers.MaxPooling2D((2,2)))\n",
    "model.add(layers.Conv2D(128,(3,3),activation='relu'))\n",
    "model.add(layers.MaxPooling2D((2,2)))\n",
    "model.add(layers.Flatten())\n",
    "model.add(layers.Dense(512,activation='relu'))\n",
    "model.add(layers.Dense(1,activation='sigmoid'))"
   ]
  },
  {
   "cell_type": "code",
   "execution_count": 25,
   "metadata": {},
   "outputs": [
    {
     "name": "stdout",
     "output_type": "stream",
     "text": [
      "Model: \"sequential_4\"\n",
      "_________________________________________________________________\n",
      "Layer (type)                 Output Shape              Param #   \n",
      "=================================================================\n",
      "conv2d_11 (Conv2D)           (None, 148, 148, 32)      896       \n",
      "_________________________________________________________________\n",
      "max_pooling2d_9 (MaxPooling2 (None, 74, 74, 32)        0         \n",
      "_________________________________________________________________\n",
      "conv2d_12 (Conv2D)           (None, 72, 72, 64)        18496     \n",
      "_________________________________________________________________\n",
      "max_pooling2d_10 (MaxPooling (None, 36, 36, 64)        0         \n",
      "_________________________________________________________________\n",
      "conv2d_13 (Conv2D)           (None, 34, 34, 128)       73856     \n",
      "_________________________________________________________________\n",
      "max_pooling2d_11 (MaxPooling (None, 17, 17, 128)       0         \n",
      "_________________________________________________________________\n",
      "conv2d_14 (Conv2D)           (None, 15, 15, 128)       147584    \n",
      "_________________________________________________________________\n",
      "max_pooling2d_12 (MaxPooling (None, 7, 7, 128)         0         \n",
      "_________________________________________________________________\n",
      "flatten_2 (Flatten)          (None, 6272)              0         \n",
      "_________________________________________________________________\n",
      "dense_1 (Dense)              (None, 512)               3211776   \n",
      "_________________________________________________________________\n",
      "dense_2 (Dense)              (None, 1)                 513       \n",
      "=================================================================\n",
      "Total params: 3,453,121\n",
      "Trainable params: 3,453,121\n",
      "Non-trainable params: 0\n",
      "_________________________________________________________________\n"
     ]
    }
   ],
   "source": [
    "model.summary()"
   ]
  },
  {
   "cell_type": "code",
   "execution_count": 26,
   "metadata": {},
   "outputs": [
    {
     "name": "stdout",
     "output_type": "stream",
     "text": [
      "WARNING:tensorflow:From C:\\ML2020\\lib\\site-packages\\tensorflow\\python\\ops\\nn_impl.py:180: add_dispatch_support.<locals>.wrapper (from tensorflow.python.ops.array_ops) is deprecated and will be removed in a future version.\n",
      "Instructions for updating:\n",
      "Use tf.where in 2.0, which has the same broadcast rule as np.where\n"
     ]
    }
   ],
   "source": [
    "from keras import optimizers\n",
    "\n",
    "model.compile(loss='binary_crossentropy',\n",
    "             optimizer=optimizers.RMSprop(lr=1e-4),\n",
    "             metrics=['acc'])"
   ]
  },
  {
   "cell_type": "code",
   "execution_count": 27,
   "metadata": {},
   "outputs": [],
   "source": [
    "from keras.preprocessing.image import ImageDataGenerator"
   ]
  },
  {
   "cell_type": "code",
   "execution_count": 29,
   "metadata": {},
   "outputs": [
    {
     "name": "stdout",
     "output_type": "stream",
     "text": [
      "Found 2000 images belonging to 2 classes.\n"
     ]
    }
   ],
   "source": [
    "train_datagen = ImageDataGenerator(rescale=1./255)\n",
    "test_datagen = ImageDataGenerator(rescale=1./255)\n",
    "\n",
    "train_generator= train_datagen.flow_from_directory(\n",
    "train_dir,\n",
    "target_size=(150,150),\n",
    "batch_size=20,\n",
    "class_mode='binary')"
   ]
  },
  {
   "cell_type": "code",
   "execution_count": 30,
   "metadata": {},
   "outputs": [
    {
     "name": "stdout",
     "output_type": "stream",
     "text": [
      "Found 1000 images belonging to 2 classes.\n"
     ]
    }
   ],
   "source": [
    "validation_generator= test_datagen.flow_from_directory(\n",
    "validation_dir,\n",
    "target_size=(150,150),\n",
    "batch_size=20,\n",
    "class_mode='binary')"
   ]
  },
  {
   "cell_type": "code",
   "execution_count": 31,
   "metadata": {},
   "outputs": [
    {
     "name": "stdout",
     "output_type": "stream",
     "text": [
      "WARNING:tensorflow:From C:\\ML2020\\lib\\site-packages\\keras\\backend\\tensorflow_backend.py:422: The name tf.global_variables is deprecated. Please use tf.compat.v1.global_variables instead.\n",
      "\n",
      "Epoch 1/30\n",
      "100/100 [==============================] - 73s 729ms/step - loss: 0.6876 - acc: 0.5440 - val_loss: 0.6331 - val_acc: 0.5610\n",
      "Epoch 2/30\n",
      "100/100 [==============================] - 72s 719ms/step - loss: 0.6589 - acc: 0.5950 - val_loss: 0.6943 - val_acc: 0.6030\n",
      "Epoch 3/30\n",
      "100/100 [==============================] - 76s 763ms/step - loss: 0.6156 - acc: 0.6560 - val_loss: 0.6407 - val_acc: 0.6120\n",
      "Epoch 4/30\n",
      "100/100 [==============================] - 69s 692ms/step - loss: 0.5765 - acc: 0.7000 - val_loss: 0.5350 - val_acc: 0.6630\n",
      "Epoch 5/30\n",
      "100/100 [==============================] - 72s 716ms/step - loss: 0.5424 - acc: 0.7295 - val_loss: 0.7331 - val_acc: 0.6830\n",
      "Epoch 6/30\n",
      "100/100 [==============================] - 75s 746ms/step - loss: 0.5194 - acc: 0.7500 - val_loss: 0.5941 - val_acc: 0.6930\n",
      "Epoch 7/30\n",
      "100/100 [==============================] - 74s 742ms/step - loss: 0.4975 - acc: 0.7510 - val_loss: 0.6798 - val_acc: 0.6850\n",
      "Epoch 8/30\n",
      "100/100 [==============================] - 71s 709ms/step - loss: 0.4775 - acc: 0.7655 - val_loss: 0.6918 - val_acc: 0.7110\n",
      "Epoch 9/30\n",
      "100/100 [==============================] - 70s 699ms/step - loss: 0.4522 - acc: 0.7880 - val_loss: 0.2730 - val_acc: 0.6680\n",
      "Epoch 10/30\n",
      "100/100 [==============================] - 71s 710ms/step - loss: 0.4204 - acc: 0.8060 - val_loss: 0.6702 - val_acc: 0.7090\n",
      "Epoch 11/30\n",
      "100/100 [==============================] - 70s 696ms/step - loss: 0.4009 - acc: 0.8185 - val_loss: 0.5738 - val_acc: 0.7220\n",
      "Epoch 12/30\n",
      "100/100 [==============================] - 69s 693ms/step - loss: 0.3844 - acc: 0.8230 - val_loss: 0.4009 - val_acc: 0.7110\n",
      "Epoch 13/30\n",
      "100/100 [==============================] - 70s 698ms/step - loss: 0.3560 - acc: 0.8410 - val_loss: 0.4489 - val_acc: 0.7140\n",
      "Epoch 14/30\n",
      "100/100 [==============================] - 71s 715ms/step - loss: 0.3430 - acc: 0.8510 - val_loss: 0.3667 - val_acc: 0.7270\n",
      "Epoch 15/30\n",
      "100/100 [==============================] - 78s 776ms/step - loss: 0.3160 - acc: 0.8725 - val_loss: 0.5602 - val_acc: 0.7250\n",
      "Epoch 16/30\n",
      "100/100 [==============================] - 75s 751ms/step - loss: 0.2992 - acc: 0.8720 - val_loss: 0.6002 - val_acc: 0.7230\n",
      "Epoch 17/30\n",
      "100/100 [==============================] - 73s 725ms/step - loss: 0.2778 - acc: 0.8875 - val_loss: 0.8674 - val_acc: 0.7250\n",
      "Epoch 18/30\n",
      "100/100 [==============================] - 64s 640ms/step - loss: 0.2578 - acc: 0.8940 - val_loss: 0.3680 - val_acc: 0.7220\n",
      "Epoch 19/30\n",
      "100/100 [==============================] - 85s 846ms/step - loss: 0.2354 - acc: 0.9100 - val_loss: 0.7659 - val_acc: 0.7260\n",
      "Epoch 20/30\n",
      "100/100 [==============================] - 81s 809ms/step - loss: 0.2112 - acc: 0.9215 - val_loss: 0.4481 - val_acc: 0.7260\n",
      "Epoch 21/30\n",
      "100/100 [==============================] - 79s 793ms/step - loss: 0.2021 - acc: 0.9205 - val_loss: 0.4472 - val_acc: 0.7440\n",
      "Epoch 22/30\n",
      "100/100 [==============================] - 74s 740ms/step - loss: 0.1763 - acc: 0.9395 - val_loss: 0.5121 - val_acc: 0.7250\n",
      "Epoch 23/30\n",
      "100/100 [==============================] - 74s 737ms/step - loss: 0.1575 - acc: 0.9380 - val_loss: 0.6113 - val_acc: 0.7340\n",
      "Epoch 24/30\n",
      "100/100 [==============================] - 74s 738ms/step - loss: 0.1352 - acc: 0.9540 - val_loss: 0.6456 - val_acc: 0.7080\n",
      "Epoch 25/30\n",
      "100/100 [==============================] - 74s 737ms/step - loss: 0.1251 - acc: 0.9590 - val_loss: 0.6043 - val_acc: 0.7090\n",
      "Epoch 26/30\n",
      "100/100 [==============================] - 73s 731ms/step - loss: 0.1048 - acc: 0.9650 - val_loss: 0.8021 - val_acc: 0.7310\n",
      "Epoch 27/30\n",
      "100/100 [==============================] - 72s 723ms/step - loss: 0.0968 - acc: 0.9695 - val_loss: 1.3822 - val_acc: 0.7300\n",
      "Epoch 28/30\n",
      "100/100 [==============================] - 73s 731ms/step - loss: 0.0853 - acc: 0.9740 - val_loss: 0.8278 - val_acc: 0.7230\n",
      "Epoch 29/30\n",
      "100/100 [==============================] - 72s 716ms/step - loss: 0.0753 - acc: 0.9725 - val_loss: 1.2421 - val_acc: 0.7320\n",
      "Epoch 30/30\n",
      "100/100 [==============================] - 73s 731ms/step - loss: 0.0630 - acc: 0.9800 - val_loss: 0.7034 - val_acc: 0.7130\n"
     ]
    }
   ],
   "source": [
    "history= model.fit_generator(\n",
    "train_generator,\n",
    "steps_per_epoch=100,\n",
    "epochs=30,\n",
    "validation_data=validation_generator,\n",
    "validation_steps=50)"
   ]
  },
  {
   "cell_type": "code",
   "execution_count": 32,
   "metadata": {},
   "outputs": [
    {
     "data": {
      "image/png": "[encoded data removed]",
      "text/plain": [
       "<Figure size 432x288 with 1 Axes>"
      ]
     },
     "metadata": {
      "needs_background": "light"
     },
     "output_type": "display_data"
    },
    {
     "data": {
      "image/png": "[encoded data removed]",
      "text/plain": [
       "<Figure size 432x288 with 1 Axes>"
      ]
     },
     "metadata": {
      "needs_background": "light"
     },
     "output_type": "display_data"
    }
   ],
   "source": [
    "model.save('cats_and_dogs_small_1.h5')\n",
    "\n",
    "import matplotlib.pyplot as plt\n",
    "\n",
    "acc=history.history['acc']\n",
    "val_acc=history.history['val_acc']\n",
    "loss=history.history['loss']\n",
    "val_loss=history.history['val_loss']\n",
    "\n",
    "epochs=range(1,len(acc)+1)\n",
    "\n",
    "plt.plot(epochs,acc,'bo',label='Training accuracy')\n",
    "plt.plot(epochs,val_acc,'b',label='Validation accuracy')\n",
    "plt.title('Accuracy')\n",
    "plt.legend()\n",
    "\n",
    "plt.figure()\n",
    "\n",
    "plt.plot(epochs,acc,'bo',label='Training loss')\n",
    "plt.plot(epochs,val_acc,'b',label='Validation loss')\n",
    "plt.title('Loss')\n",
    "plt.legend()\n",
    "\n",
    "plt.show()"
   ]
  },
  {
   "cell_type": "code",
   "execution_count": null,
   "metadata": {},
   "outputs": [],
   "source": []
  }
 ],
 "metadata": {
  "kernelspec": {
   "display_name": "Python 3",
   "language": "python",
   "name": "python3"
  },
  "language_info": {
   "codemirror_mode": {
    "name": "ipython",
    "version": 3
   },
   "file_extension": ".py",
   "mimetype": "text/x-python",
   "name": "python",
   "nbconvert_exporter": "python",
   "pygments_lexer": "ipython3",
   "version": "3.7.6"
  }
 },
 "nbformat": 4,
 "nbformat_minor": 4
}
