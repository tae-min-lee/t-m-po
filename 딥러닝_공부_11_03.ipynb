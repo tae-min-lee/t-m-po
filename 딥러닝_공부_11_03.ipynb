{
  "nbformat": 4,
  "nbformat_minor": 0,
  "metadata": {
    "colab": {
      "name": "딥러닝 공부 11/03.ipynb",
      "provenance": [],
      "authorship_tag": "ABX9TyOKPpGSfq2zD8/OkGY7Nhlo",
      "include_colab_link": true
    },
    "kernelspec": {
      "name": "python3",
      "display_name": "Python 3"
    },
    "accelerator": "GPU"
  },
  "cells": [
    {
      "cell_type": "markdown",
      "metadata": {
        "id": "view-in-github",
        "colab_type": "text"
      },
      "source": [
        "<a href=\"https://colab.research.google.com/github/tae-min-lee/t-m-po/blob/master/%EB%94%A5%EB%9F%AC%EB%8B%9D_%EA%B3%B5%EB%B6%80_11_03.ipynb\" target=\"_parent\"><img src=\"https://colab.research.google.com/assets/colab-badge.svg\" alt=\"Open In Colab\"/></a>"
      ]
    },
    {
      "cell_type": "markdown",
      "metadata": {
        "id": "W7scEI_aYY_F"
      },
      "source": [
        "## imbd 데이터넷 분류 모델 만들기\n",
        "\n",
        "### 데이터 불러오가"
      ]
    },
    {
      "cell_type": "code",
      "metadata": {
        "id": "_VU9_p8WYCAP",
        "outputId": "95ff9a91-3d3b-4050-8069-09b582cefca2",
        "colab": {
          "base_uri": "https://localhost:8080/"
        }
      },
      "source": [
        "from keras.datasets import imdb\n",
        "\n",
        "(train_data,train_labels),(test_data,test_labels)= imdb.load_data(num_words=10000)"
      ],
      "execution_count": 1,
      "outputs": [
        {
          "output_type": "stream",
          "text": [
            "Downloading data from https://storage.googleapis.com/tensorflow/tf-keras-datasets/imdb.npz\n",
            "17465344/17464789 [==============================] - 0s 0us/step\n"
          ],
          "name": "stdout"
        }
      ]
    },
    {
      "cell_type": "markdown",
      "metadata": {
        "id": "G7CUDzZRY_WC"
      },
      "source": [
        "불러온 데이터를 모델에 맞게 원-핫 인코딩으로 튜닝하기"
      ]
    },
    {
      "cell_type": "code",
      "metadata": {
        "id": "c8r2gYAoY9HS"
      },
      "source": [
        "import numpy as np\n",
        "def vectorize (sequences,dimension=10000):\n",
        "  result = np.zeros((len(sequences),dimension))\n",
        "\n",
        "  for i, sequences in enumerate(sequences):\n",
        "    result[i,sequences]=1\n",
        "  return result\n",
        "\n",
        "x_train = vectorize(train_data)\n",
        "x_test = vectorize(test_data)\n",
        "y_train = np.asarray(train_labels).astype('float32')\n",
        "y_test = np.asarray(test_labels).astype('float32')"
      ],
      "execution_count": 4,
      "outputs": []
    },
    {
      "cell_type": "markdown",
      "metadata": {
        "id": "cazQo2dUbKFu"
      },
      "source": [
        "### 모델 설계"
      ]
    },
    {
      "cell_type": "code",
      "metadata": {
        "id": "SmXDHjKtZEeY"
      },
      "source": [
        "from keras import layers\n",
        "from keras import models\n",
        "\n",
        "model = models.Sequential()\n",
        "\n",
        "model.add(layers.Dense(16,activation='relu',input_shape=(10000,)))\n",
        "model.add(layers.Dense(16,activation='relu'))\n",
        "model.add(layers.Dense(1,activation='sigmoid'))"
      ],
      "execution_count": 5,
      "outputs": []
    },
    {
      "cell_type": "markdown",
      "metadata": {
        "id": "KVvOtBrvcG8E"
      },
      "source": [
        "### 컴파일러 설정하기"
      ]
    },
    {
      "cell_type": "code",
      "metadata": {
        "id": "WC8SNqUCcEo9"
      },
      "source": [
        "model.compile(optimizer='rmsprop',\n",
        "              loss = 'binary_crossentropy',\n",
        "              metrics=['accuracy'])"
      ],
      "execution_count": 6,
      "outputs": []
    },
    {
      "cell_type": "markdown",
      "metadata": {
        "id": "KP_arrAqcn_V"
      },
      "source": [
        "### vaildation set 나누기"
      ]
    },
    {
      "cell_type": "code",
      "metadata": {
        "id": "JM4DrNmEcmxZ"
      },
      "source": [
        "x_val = x_train[:10000]\n",
        "partical_x =x_train[10000:]\n",
        "y_val = y_train[:10000]\n",
        "partical_y = y_train[10000:]"
      ],
      "execution_count": 10,
      "outputs": []
    },
    {
      "cell_type": "markdown",
      "metadata": {
        "id": "yv33e0-rdUJs"
      },
      "source": [
        "#### 모델 훈련시키기"
      ]
    },
    {
      "cell_type": "code",
      "metadata": {
        "id": "anF4E6k3dTDG",
        "outputId": "7d092f05-7354-4797-a1a8-007e90a6ec00",
        "colab": {
          "base_uri": "https://localhost:8080/"
        }
      },
      "source": [
        "history = model.fit( partical_x,partical_y,\n",
        "                    epochs=20,\n",
        "                    batch_size=512,\n",
        "                    validation_data=(x_val,y_val))"
      ],
      "execution_count": 9,
      "outputs": [
        {
          "output_type": "stream",
          "text": [
            "Epoch 1/20\n",
            "30/30 [==============================] - 1s 28ms/step - loss: 0.5129 - accuracy: 0.7690 - val_loss: 0.4092 - val_accuracy: 0.8344\n",
            "Epoch 2/20\n",
            "30/30 [==============================] - 1s 18ms/step - loss: 0.2969 - accuracy: 0.9059 - val_loss: 0.3037 - val_accuracy: 0.8845\n",
            "Epoch 3/20\n",
            "30/30 [==============================] - 1s 18ms/step - loss: 0.2143 - accuracy: 0.9313 - val_loss: 0.2746 - val_accuracy: 0.8928\n",
            "Epoch 4/20\n",
            "30/30 [==============================] - 1s 18ms/step - loss: 0.1700 - accuracy: 0.9457 - val_loss: 0.2925 - val_accuracy: 0.8814\n",
            "Epoch 5/20\n",
            "30/30 [==============================] - 1s 18ms/step - loss: 0.1407 - accuracy: 0.9556 - val_loss: 0.2860 - val_accuracy: 0.8895\n",
            "Epoch 6/20\n",
            "30/30 [==============================] - 1s 18ms/step - loss: 0.1156 - accuracy: 0.9637 - val_loss: 0.2953 - val_accuracy: 0.8865\n",
            "Epoch 7/20\n",
            "30/30 [==============================] - 1s 18ms/step - loss: 0.0940 - accuracy: 0.9725 - val_loss: 0.3199 - val_accuracy: 0.8807\n",
            "Epoch 8/20\n",
            "30/30 [==============================] - 1s 19ms/step - loss: 0.0786 - accuracy: 0.9767 - val_loss: 0.3541 - val_accuracy: 0.8740\n",
            "Epoch 9/20\n",
            "30/30 [==============================] - 1s 18ms/step - loss: 0.0702 - accuracy: 0.9800 - val_loss: 0.3572 - val_accuracy: 0.8799\n",
            "Epoch 10/20\n",
            "30/30 [==============================] - 1s 18ms/step - loss: 0.0546 - accuracy: 0.9858 - val_loss: 0.3945 - val_accuracy: 0.8736\n",
            "Epoch 11/20\n",
            "30/30 [==============================] - 1s 18ms/step - loss: 0.0445 - accuracy: 0.9905 - val_loss: 0.4433 - val_accuracy: 0.8710\n",
            "Epoch 12/20\n",
            "30/30 [==============================] - 1s 25ms/step - loss: 0.0376 - accuracy: 0.9916 - val_loss: 0.4425 - val_accuracy: 0.8718\n",
            "Epoch 13/20\n",
            "30/30 [==============================] - 1s 18ms/step - loss: 0.0313 - accuracy: 0.9939 - val_loss: 0.4758 - val_accuracy: 0.8705\n",
            "Epoch 14/20\n",
            "30/30 [==============================] - 1s 17ms/step - loss: 0.0253 - accuracy: 0.9951 - val_loss: 0.4981 - val_accuracy: 0.8703\n",
            "Epoch 15/20\n",
            "30/30 [==============================] - 1s 18ms/step - loss: 0.0203 - accuracy: 0.9970 - val_loss: 0.5356 - val_accuracy: 0.8676\n",
            "Epoch 16/20\n",
            "30/30 [==============================] - 1s 18ms/step - loss: 0.0163 - accuracy: 0.9979 - val_loss: 0.6084 - val_accuracy: 0.8626\n",
            "Epoch 17/20\n",
            "30/30 [==============================] - 1s 18ms/step - loss: 0.0124 - accuracy: 0.9987 - val_loss: 0.6077 - val_accuracy: 0.8657\n",
            "Epoch 18/20\n",
            "30/30 [==============================] - 1s 18ms/step - loss: 0.0136 - accuracy: 0.9970 - val_loss: 0.6330 - val_accuracy: 0.8668\n",
            "Epoch 19/20\n",
            "30/30 [==============================] - 1s 18ms/step - loss: 0.0060 - accuracy: 0.9998 - val_loss: 0.7042 - val_accuracy: 0.8596\n",
            "Epoch 20/20\n",
            "30/30 [==============================] - 1s 18ms/step - loss: 0.0080 - accuracy: 0.9987 - val_loss: 0.7007 - val_accuracy: 0.8644\n"
          ],
          "name": "stdout"
        }
      ]
    },
    {
      "cell_type": "markdown",
      "metadata": {
        "id": "KA14DRHqke-w"
      },
      "source": [
        "### 그래프로 그리기"
      ]
    },
    {
      "cell_type": "code",
      "metadata": {
        "id": "Q5BXopd6drup",
        "outputId": "c42c2514-eea2-4962-e618-1b4b2f9f50a2",
        "colab": {
          "base_uri": "https://localhost:8080/",
          "height": 295
        }
      },
      "source": [
        "import matplotlib.pyplot as plt\n",
        "\n",
        "history_dict=history.history\n",
        "loss = history_dict['loss']\n",
        "val_loss = history_dict['val_loss']\n",
        "\n",
        "epochs = range(1,len(loss)+1)\n",
        "\n",
        "plt.plot(epochs,loss,'bo',label='Training loss')\n",
        "plt.plot(epochs,val_loss,'b',label='validation loss')\n",
        "plt.title('Example')\n",
        "plt.xlabel('Epochs')\n",
        "plt.ylabel('Loss')\n",
        "\n",
        "\n",
        "plt.show()"
      ],
      "execution_count": 15,
      "outputs": [
        {
          "output_type": "display_data",
          "data": {
            "image/png": "[encoded data removed]",
            "text/plain": [
              "<Figure size 432x288 with 1 Axes>"
            ]
          },
          "metadata": {
            "tags": [],
            "needs_background": "light"
          }
        }
      ]
    },
    {
      "cell_type": "code",
      "metadata": {
        "id": "HfWB8iz2ltyI",
        "outputId": "b7575908-1b57-4f0c-9f73-4e519183bb5e",
        "colab": {
          "base_uri": "https://localhost:8080/"
        }
      },
      "source": [
        "model.evaluate(x_test,y_test)"
      ],
      "execution_count": 16,
      "outputs": [
        {
          "output_type": "stream",
          "text": [
            "782/782 [==============================] - 2s 2ms/step - loss: 0.7761 - accuracy: 0.8502\n"
          ],
          "name": "stdout"
        },
        {
          "output_type": "execute_result",
          "data": {
            "text/plain": [
              "[0.776146411895752, 0.8502399921417236]"
            ]
          },
          "metadata": {
            "tags": []
          },
          "execution_count": 16
        }
      ]
    },
    {
      "cell_type": "code",
      "metadata": {
        "id": "BmW2YuYYnIQD",
        "outputId": "d9f56ea5-5727-4896-8810-585178499420",
        "colab": {
          "base_uri": "https://localhost:8080/"
        }
      },
      "source": [
        "model.predict(x_test)"
      ],
      "execution_count": 17,
      "outputs": [
        {
          "output_type": "execute_result",
          "data": {
            "text/plain": [
              "array([[5.3701941e-03],\n",
              "       [9.9999976e-01],\n",
              "       [9.9702185e-01],\n",
              "       ...,\n",
              "       [9.1342488e-04],\n",
              "       [1.3602019e-02],\n",
              "       [8.6459422e-01]], dtype=float32)"
            ]
          },
          "metadata": {
            "tags": []
          },
          "execution_count": 17
        }
      ]
    },
    {
      "cell_type": "code",
      "metadata": {
        "id": "PwPinSvon7n3"
      },
      "source": [
        ""
      ],
      "execution_count": null,
      "outputs": []
    },
    {
      "cell_type": "markdown",
      "metadata": {
        "id": "mo7hkVOlGJMC"
      },
      "source": [
        "## 보스턴 주택 가격 맞추기 (회귀 문제)\n"
      ]
    },
    {
      "cell_type": "markdown",
      "metadata": {
        "id": "ru23DleNHHJ1"
      },
      "source": [
        "### 데이터 로드"
      ]
    },
    {
      "cell_type": "code",
      "metadata": {
        "id": "xl8jHq5wGOjD",
        "outputId": "1bed2a02-42d7-4c91-fcec-295c3e937e12",
        "colab": {
          "base_uri": "https://localhost:8080/"
        }
      },
      "source": [
        "from keras.datasets import boston_housing\n",
        "\n",
        "(train_data,train_targets),(test_data,test_targets)=boston_housing.load_data()"
      ],
      "execution_count": 1,
      "outputs": [
        {
          "output_type": "stream",
          "text": [
            "Downloading data from https://storage.googleapis.com/tensorflow/tf-keras-datasets/boston_housing.npz\n",
            "57344/57026 [==============================] - 0s 0us/step\n"
          ],
          "name": "stdout"
        }
      ]
    },
    {
      "cell_type": "code",
      "metadata": {
        "id": "aWrbEU3fHgow",
        "outputId": "7f48ccbb-3a97-4aa1-d0e6-8d0fa2e83168",
        "colab": {
          "base_uri": "https://localhost:8080/"
        }
      },
      "source": [
        "train_data.shape"
      ],
      "execution_count": 2,
      "outputs": [
        {
          "output_type": "execute_result",
          "data": {
            "text/plain": [
              "(404, 13)"
            ]
          },
          "metadata": {
            "tags": []
          },
          "execution_count": 2
        }
      ]
    },
    {
      "cell_type": "code",
      "metadata": {
        "id": "JT7KDGplHjl8",
        "outputId": "6769f528-1ae0-41b7-de2e-3e6e14e22f54",
        "colab": {
          "base_uri": "https://localhost:8080/"
        }
      },
      "source": [
        "test_data.shape"
      ],
      "execution_count": 3,
      "outputs": [
        {
          "output_type": "execute_result",
          "data": {
            "text/plain": [
              "(102, 13)"
            ]
          },
          "metadata": {
            "tags": []
          },
          "execution_count": 3
        }
      ]
    },
    {
      "cell_type": "markdown",
      "metadata": {
        "id": "wu_jJYIAHzu0"
      },
      "source": [
        "### 데이터의 값들이 전부 제각각이므로 모든 값들을 평균이 0이고 표준편차를 1로 만들어줌"
      ]
    },
    {
      "cell_type": "code",
      "metadata": {
        "id": "FknHnRcTHm_0"
      },
      "source": [
        "mean = train_data.mean(axis=0)\n",
        "train_data -= mean\n",
        "std = train_data.std(axis=0)\n",
        "train_data/=std\n",
        "\n",
        "\n",
        "test_data -= mean\n",
        "test_data/=std"
      ],
      "execution_count": 5,
      "outputs": []
    },
    {
      "cell_type": "markdown",
      "metadata": {
        "id": "gW--Ac8oIxQB"
      },
      "source": [
        "### 모델 만들기"
      ]
    },
    {
      "cell_type": "code",
      "metadata": {
        "id": "XLSzdOOXIvKB"
      },
      "source": [
        "from keras import models\n",
        "from keras import layers\n",
        "\n",
        "def bild_model():\n",
        "  model = models.Sequential()\n",
        "  model.add(layers.Dense(64,activation='relu',input_shape=(train_data[1],)))\n",
        "  model.add(layers.Dense(64,activation='relu'))\n",
        "  model.add(layers.Dense(1))\n",
        "\n",
        "  model.compile(optimizer='rmsprop',loss='mse',metrics=['accracy'])\n",
        "\n",
        "  return model"
      ],
      "execution_count": 6,
      "outputs": []
    },
    {
      "cell_type": "markdown",
      "metadata": {
        "id": "DcCYensPYd1m"
      },
      "source": [
        "## 합성곱 신경망으로 mnist데이터 훈련시키기"
      ]
    },
    {
      "cell_type": "code",
      "metadata": {
        "id": "hMLlBeNYKYE4",
        "outputId": "e5dccaad-b559-4941-eec1-06d7254e41a4",
        "colab": {
          "base_uri": "https://localhost:8080/"
        }
      },
      "source": [
        "from keras.datasets import mnist\n",
        "\n",
        "(train_images,train_labels),(test_images,test_labels) = mnist.load_data()"
      ],
      "execution_count": 1,
      "outputs": [
        {
          "output_type": "stream",
          "text": [
            "Downloading data from https://storage.googleapis.com/tensorflow/tf-keras-datasets/mnist.npz\n",
            "11493376/11490434 [==============================] - 0s 0us/step\n"
          ],
          "name": "stdout"
        }
      ]
    },
    {
      "cell_type": "code",
      "metadata": {
        "id": "x1dqGtFQYzmX",
        "outputId": "389c3d7d-2774-4d26-d041-5597bdccfae5",
        "colab": {
          "base_uri": "https://localhost:8080/"
        }
      },
      "source": [
        "train_images.shape"
      ],
      "execution_count": 2,
      "outputs": [
        {
          "output_type": "execute_result",
          "data": {
            "text/plain": [
              "(60000, 28, 28)"
            ]
          },
          "metadata": {
            "tags": []
          },
          "execution_count": 2
        }
      ]
    },
    {
      "cell_type": "code",
      "metadata": {
        "id": "tY6L_92FY3Fz"
      },
      "source": [
        "train_images = train_images.reshape((60000,28,28,1))\n",
        "train_images = train_images.astype('float32')/255\n",
        "test_images =test_images.reshape((10000,28,28,1))\n",
        "test_images = test_images.astype('float32')/255"
      ],
      "execution_count": 5,
      "outputs": []
    },
    {
      "cell_type": "code",
      "metadata": {
        "id": "CiOSBCedZEvb"
      },
      "source": [
        "from keras.utils import to_categorical\n",
        "\n",
        "train_labels = to_categorical(train_labels)\n",
        "test_labels = to_categorical(test_labels)\n"
      ],
      "execution_count": 6,
      "outputs": []
    },
    {
      "cell_type": "code",
      "metadata": {
        "id": "Nb3LmD5NZyzE"
      },
      "source": [
        "from keras import models,layers\n",
        "\n",
        "model = models.Sequential()\n",
        "\n",
        "model.add(layers.Conv2D(32,(3,3),activation='relu',input_shape=(28,28,1)))\n",
        "model.add(layers.MaxPooling2D((2,2)))\n",
        "model.add(layers.Conv2D(64,(3,3),activation='relu'))\n",
        "model.add(layers.MaxPooling2D((2,2)))\n",
        "model.add(layers.Conv2D(64,(3,3),activation='relu'))\n",
        "\n",
        "model.add(layers.Flatten())\n",
        "model.add(layers.Dense(64,activation='relu'))\n",
        "model.add(layers.Dense(10,activation='softmax'))"
      ],
      "execution_count": 9,
      "outputs": []
    },
    {
      "cell_type": "code",
      "metadata": {
        "id": "4bQSm9hNbWmE",
        "outputId": "34b47150-68a3-42e1-ba9d-b097b93a791f",
        "colab": {
          "base_uri": "https://localhost:8080/"
        }
      },
      "source": [
        "model.summary()"
      ],
      "execution_count": 10,
      "outputs": [
        {
          "output_type": "stream",
          "text": [
            "Model: \"sequential\"\n",
            "_________________________________________________________________\n",
            "Layer (type)                 Output Shape              Param #   \n",
            "=================================================================\n",
            "conv2d (Conv2D)              (None, 26, 26, 32)        320       \n",
            "_________________________________________________________________\n",
            "max_pooling2d (MaxPooling2D) (None, 13, 13, 32)        0         \n",
            "_________________________________________________________________\n",
            "conv2d_1 (Conv2D)            (None, 11, 11, 64)        18496     \n",
            "_________________________________________________________________\n",
            "max_pooling2d_1 (MaxPooling2 (None, 5, 5, 64)          0         \n",
            "_________________________________________________________________\n",
            "conv2d_2 (Conv2D)            (None, 3, 3, 64)          36928     \n",
            "_________________________________________________________________\n",
            "flatten (Flatten)            (None, 576)               0         \n",
            "_________________________________________________________________\n",
            "dense (Dense)                (None, 64)                36928     \n",
            "_________________________________________________________________\n",
            "dense_1 (Dense)              (None, 10)                650       \n",
            "=================================================================\n",
            "Total params: 93,322\n",
            "Trainable params: 93,322\n",
            "Non-trainable params: 0\n",
            "_________________________________________________________________\n"
          ],
          "name": "stdout"
        }
      ]
    },
    {
      "cell_type": "code",
      "metadata": {
        "id": "nL6wA83Tbtgb"
      },
      "source": [
        "model.compile(optimizer='rmsprop',\n",
        "              loss='categorical_crossentropy',\n",
        "              metrics=['accuracy'])"
      ],
      "execution_count": 11,
      "outputs": []
    },
    {
      "cell_type": "code",
      "metadata": {
        "id": "bvZXaqDAcbI9",
        "outputId": "5015a70c-aa87-411d-af60-748f58bfd7f2",
        "colab": {
          "base_uri": "https://localhost:8080/"
        }
      },
      "source": [
        "model.fit(train_images,train_labels,epochs=20,\n",
        "          batch_size=128)"
      ],
      "execution_count": 12,
      "outputs": [
        {
          "output_type": "stream",
          "text": [
            "Epoch 1/20\n",
            "469/469 [==============================] - 2s 5ms/step - loss: 0.2282 - accuracy: 0.9297\n",
            "Epoch 2/20\n",
            "469/469 [==============================] - 2s 5ms/step - loss: 0.0560 - accuracy: 0.9826\n",
            "Epoch 3/20\n",
            "469/469 [==============================] - 2s 5ms/step - loss: 0.0368 - accuracy: 0.9883\n",
            "Epoch 4/20\n",
            "469/469 [==============================] - 2s 5ms/step - loss: 0.0277 - accuracy: 0.9910\n",
            "Epoch 5/20\n",
            "469/469 [==============================] - 2s 5ms/step - loss: 0.0219 - accuracy: 0.9933\n",
            "Epoch 6/20\n",
            "469/469 [==============================] - 2s 5ms/step - loss: 0.0171 - accuracy: 0.9945\n",
            "Epoch 7/20\n",
            "469/469 [==============================] - 2s 5ms/step - loss: 0.0143 - accuracy: 0.9955\n",
            "Epoch 8/20\n",
            "469/469 [==============================] - 2s 5ms/step - loss: 0.0112 - accuracy: 0.9966\n",
            "Epoch 9/20\n",
            "469/469 [==============================] - 2s 5ms/step - loss: 0.0093 - accuracy: 0.9971\n",
            "Epoch 10/20\n",
            "469/469 [==============================] - 2s 5ms/step - loss: 0.0080 - accuracy: 0.9976\n",
            "Epoch 11/20\n",
            "469/469 [==============================] - 2s 5ms/step - loss: 0.0062 - accuracy: 0.9980\n",
            "Epoch 12/20\n",
            "469/469 [==============================] - 2s 5ms/step - loss: 0.0061 - accuracy: 0.9981\n",
            "Epoch 13/20\n",
            "469/469 [==============================] - 2s 5ms/step - loss: 0.0048 - accuracy: 0.9987\n",
            "Epoch 14/20\n",
            "469/469 [==============================] - 2s 5ms/step - loss: 0.0048 - accuracy: 0.9984\n",
            "Epoch 15/20\n",
            "469/469 [==============================] - 2s 5ms/step - loss: 0.0038 - accuracy: 0.9988\n",
            "Epoch 16/20\n",
            "469/469 [==============================] - 2s 5ms/step - loss: 0.0031 - accuracy: 0.9989\n",
            "Epoch 17/20\n",
            "469/469 [==============================] - 2s 5ms/step - loss: 0.0033 - accuracy: 0.9990\n",
            "Epoch 18/20\n",
            "469/469 [==============================] - 2s 5ms/step - loss: 0.0035 - accuracy: 0.9990\n",
            "Epoch 19/20\n",
            "469/469 [==============================] - 2s 5ms/step - loss: 0.0025 - accuracy: 0.9993\n",
            "Epoch 20/20\n",
            "469/469 [==============================] - 2s 5ms/step - loss: 0.0028 - accuracy: 0.9991\n"
          ],
          "name": "stdout"
        },
        {
          "output_type": "execute_result",
          "data": {
            "text/plain": [
              "<tensorflow.python.keras.callbacks.History at 0x7face9fc1668>"
            ]
          },
          "metadata": {
            "tags": []
          },
          "execution_count": 12
        }
      ]
    },
    {
      "cell_type": "code",
      "metadata": {
        "id": "Nr3VYPEnclAL"
      },
      "source": [
        ""
      ],
      "execution_count": null,
      "outputs": []
    }
  ]
}