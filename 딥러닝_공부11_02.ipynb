{
  "nbformat": 4,
  "nbformat_minor": 0,
  "metadata": {
    "colab": {
      "name": " 딥러닝 공부11/02.ipynb",
      "provenance": [],
      "authorship_tag": "ABX9TyNWhY7gidLXzj/Fl0i6wjmZ",
      "include_colab_link": true
    },
    "kernelspec": {
      "name": "python3",
      "display_name": "Python 3"
    },
    "accelerator": "GPU"
  },
  "cells": [
    {
      "cell_type": "markdown",
      "metadata": {
        "id": "view-in-github",
        "colab_type": "text"
      },
      "source": [
        "<a href=\"https://colab.research.google.com/github/tae-min-lee/t-m-po/blob/master/%EB%94%A5%EB%9F%AC%EB%8B%9D_%EA%B3%B5%EB%B6%8011_02.ipynb\" target=\"_parent\"><img src=\"https://colab.research.google.com/assets/colab-badge.svg\" alt=\"Open In Colab\"/></a>"
      ]
    },
    {
      "cell_type": "markdown",
      "metadata": {
        "id": "UH5TW5HQQcxZ"
      },
      "source": [
        "### 데이터 세트 불러오기"
      ]
    },
    {
      "cell_type": "code",
      "metadata": {
        "id": "dBBhUMhtPViJ"
      },
      "source": [
        "from keras.datasets import mnist\n",
        "\n",
        "(train_images,train_labels),(test_images,test_labels) = mnist.load_data()"
      ],
      "execution_count": 14,
      "outputs": []
    },
    {
      "cell_type": "markdown",
      "metadata": {
        "id": "jlUzN8Z4Qh4x"
      },
      "source": [
        "### 모델 만들기"
      ]
    },
    {
      "cell_type": "code",
      "metadata": {
        "id": "iT8liG2nP3PW"
      },
      "source": [
        "from keras import layers\n",
        "from keras import models\n",
        "\n",
        "network = models.Sequential()\n",
        "network.add(layers.Dense(512,activation='relu',input_shape=(28*28,)))\n",
        "network.add(layers.Dense(10,activation='softmax'))"
      ],
      "execution_count": 7,
      "outputs": []
    },
    {
      "cell_type": "markdown",
      "metadata": {
        "id": "GDtogqFaRR-t"
      },
      "source": [
        "### 컴파일러 만들기( 옵티마이져, 손실함수, 측정지표)"
      ]
    },
    {
      "cell_type": "code",
      "metadata": {
        "id": "02dTSjaJRvUV"
      },
      "source": [
        "network.compile(optimizer='rmsprop',\n",
        "                loss='categorical_crossentropy',\n",
        "                metrics=['accuracy'])"
      ],
      "execution_count": 8,
      "outputs": []
    },
    {
      "cell_type": "markdown",
      "metadata": {
        "id": "YfgjTfv7SUQo"
      },
      "source": [
        "### 데이터 전처리"
      ]
    },
    {
      "cell_type": "code",
      "metadata": {
        "id": "kkCe4jjZSbJs"
      },
      "source": [
        "train_images=train_images.reshape(60000,28*28)\n",
        "train_images=train_images.astype('float32')/255\n",
        "test_images= test_images.reshape(10000,28*28)\n",
        "test_images =test_images.astype('float32')/255"
      ],
      "execution_count": 10,
      "outputs": []
    },
    {
      "cell_type": "markdown",
      "metadata": {
        "id": "L7uv-Nm6SX8U"
      },
      "source": [
        "### 레이블 데이터 범주형 데이터로 인코딩"
      ]
    },
    {
      "cell_type": "code",
      "metadata": {
        "id": "TbHyDL4CTMVO"
      },
      "source": [
        "from keras.utils import to_categorical\n",
        "\n",
        "train_labels=to_categorical(train_labels)\n",
        "test_labels=to_categorical(test_labels)"
      ],
      "execution_count": 11,
      "outputs": []
    },
    {
      "cell_type": "markdown",
      "metadata": {
        "id": "sP769vunThUw"
      },
      "source": [
        "### 모델 훈련"
      ]
    },
    {
      "cell_type": "code",
      "metadata": {
        "id": "trc9bJ8gTgSC",
        "outputId": "f6219c74-f298-416a-83c5-66a363f4affb",
        "colab": {
          "base_uri": "https://localhost:8080/"
        }
      },
      "source": [
        "network.fit(train_images,train_labels,epochs=7,batch_size=128)"
      ],
      "execution_count": 13,
      "outputs": [
        {
          "output_type": "stream",
          "text": [
            "Epoch 1/7\n",
            "469/469 [==============================] - 2s 4ms/step - loss: 1.4703 - accuracy: 0.6821\n",
            "Epoch 2/7\n",
            "469/469 [==============================] - 2s 4ms/step - loss: 0.5841 - accuracy: 0.8538\n",
            "Epoch 3/7\n",
            "469/469 [==============================] - 2s 4ms/step - loss: 0.4120 - accuracy: 0.8881\n",
            "Epoch 4/7\n",
            "469/469 [==============================] - 2s 4ms/step - loss: 0.3540 - accuracy: 0.9005\n",
            "Epoch 5/7\n",
            "469/469 [==============================] - 2s 4ms/step - loss: 0.3247 - accuracy: 0.9075\n",
            "Epoch 6/7\n",
            "469/469 [==============================] - 2s 4ms/step - loss: 0.3056 - accuracy: 0.9128\n",
            "Epoch 7/7\n",
            "469/469 [==============================] - 2s 4ms/step - loss: 0.2906 - accuracy: 0.9169\n"
          ],
          "name": "stdout"
        },
        {
          "output_type": "execute_result",
          "data": {
            "text/plain": [
              "<tensorflow.python.keras.callbacks.History at 0x7fb2bf7f9588>"
            ]
          },
          "metadata": {
            "tags": []
          },
          "execution_count": 13
        }
      ]
    },
    {
      "cell_type": "code",
      "metadata": {
        "id": "S1K6ewiATzCN"
      },
      "source": [
        ""
      ],
      "execution_count": null,
      "outputs": []
    }
  ]
}